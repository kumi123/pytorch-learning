{
 "cells": [
  {
   "cell_type": "markdown",
   "metadata": {},
   "source": [
    "# 多层神经网络，Sequential 和 Module\n",
    "通过前面的章节，我们了解到了机器学习领域中最常见的两个模型，线性回归模型和 Logistic 回归模型，他们分别是处理机器学习中最常见的两类问题-回归问题和分类问题。\n",
    "\n",
    "下面我们会讲第一个深度学习的模型，多层神经网络。"
   ]
  },
  {
   "cell_type": "markdown",
   "metadata": {},
   "source": [
    "## 多层神经网络\n",
    "在前面的线性回归中，我们的公式是 $y = w x + b$，而在 Logistic 回归中，我们的公式是 $y = Sigmoid(w x + b)$，其实它们都可以看成单层神经网络，其中 Sigmoid 被称为激活函数，之后我们会详细介绍激活函数以及为什么必须使用激活函数，下面我们从理解神经网络入手。"
   ]
  },
  {
   "cell_type": "markdown",
   "metadata": {},
   "source": [
    "### 理解神经网络\n",
    "神经网络的灵感来自于人脑的神经元系统，下面我们放一张人脑的神经元和神经网络的对比图(来自 cs231n)\n",
    "\n",
    "![](https://ws4.sinaimg.cn/large/006tNc79ly1fmgiz5mqs3j30or0773zg.jpg)\n",
    "\n",
    "左边是一张神经元的图片，神经元通过突触接受输入，然后通过**神经激活**的方式传输给后面的神经元。这对比于右边的神经网络，首先接受数据输入，然后通过计算得到结果，接着经过**激活函数**，再传给第二层的神经元。\n",
    "\n",
    "所以前面讲的 logistic 回归模型和线性回归模型都可以看做是一个单层神经网络，而 logistic 回归中使用了激活函数 sigmoid。\n",
    "\n",
    "神经网络使用的激活函数都是非线性的，每个激活函数都输入一个值，然后做一种特定的数学运算得到一个结果，下面举几个例子\n",
    "\n",
    "sigmoid 激活函数\n",
    "\n",
    "$$\\sigma(x) = \\frac{1}{1 + e^{-x}}$$\n",
    "\n",
    "![](https://ws1.sinaimg.cn/large/006tNc79ly1fmgj7yto7gj308w05oa9w.jpg)\n",
    "\n",
    "tanh 激活函数\n",
    "\n",
    "$$tanh(x) = 2 \\sigma(2x) - 1$$\n",
    "\n",
    "![](https://ws3.sinaimg.cn/large/006tNc79ly1fmgj8yjdnlj308w05mt8j.jpg)\n",
    "\n",
    "ReLU 激活函数\n",
    "\n",
    "$$ReLU(x) = max(0, x)$$\n",
    "\n",
    "![](https://ws1.sinaimg.cn/large/006tNc79ly1fmgj94ky2oj308n05uq2r.jpg)\n",
    "\n",
    "我们下面重点讲一讲 ReLU 激活函数，因为现在神经网络中 90% 的情况都是使用这个激活函数。一般一个一层的神经网络的公式就是 $y = max(0, w x + b)$，一个两层的神经网络就是 $y = w_2\\ max(0, w_1 x + b_1) + b_2$，非常简单，但是却很有效，使用这个激活函数能够加快梯度下降法的收敛速度，同时对比与其他的激活函数，这个激活函数计算更加简单，所以现在变得非常流行，之后你会发现我们激活在所有的神经网络中都会使用它。"
   ]
  },
  {
   "cell_type": "markdown",
   "metadata": {},
   "source": [
    "## 神经网络的结构\n",
    "神经网络就是很多个神经元堆在一起形成一层神经网络，那么多个层堆叠在一起就是深层神经网络，我们可以通过下面的图展示一个两层的神经网络和三层的神经网络\n",
    "\n",
    "![](https://ws2.sinaimg.cn/large/006tNc79ly1fmgjiafmmjj30nu07075w.jpg)\n",
    "\n",
    "可以看到，神经网络的结构其实非常简单，主要有输入层，隐藏层，输出层构成，输入层需要根据特征数目来决定，输出层根据解决的问题来决定，那么隐藏层的网路层数以及每层的神经元数就是可以调节的参数，而不同的层数和每层的参数对模型的影响非常大，我们看看这个网站的 [demo](http://cs.stanford.edu/people/karpathy/convnetjs/demo/classify2d.html)\n",
    "\n",
    "神经网络向前传播也非常简单，就是一层一层不断做运算就可以了，可以看看下面这个例子\n",
    "\n",
    "![](https://ws2.sinaimg.cn/large/006tNc79ly1fmgj4q1j78g309u0cc4qq.gif)"
   ]
  },
  {
   "cell_type": "markdown",
   "metadata": {},
   "source": [
    "## 为什么要使用激活函数\n",
    "激活函数在神经网络中非常重要，使用激活函数也是非常必要的，前面我们从人脑神经元的角度理解了激活函数，因为神经元需要通过激活才能往后传播，所以神经网络中需要激活函数，下面我们从数学的角度理解一下激活函数的必要性。\n",
    "\n",
    "比如一个两层的神经网络，使用 A 表示激活函数，那么\n",
    "\n",
    "$$\n",
    "y = w_2 A(w_1 x)\n",
    "$$\n",
    "\n",
    "如果我们不使用激活函数，那么神经网络的结果就是\n",
    "\n",
    "$$\n",
    "y = w_2 (w_1 x) = (w_2 w_1) x = \\bar{w} x\n",
    "$$\n",
    "\n",
    "可以看到，我们将两层神经网络的参数合在一起，用 $\\bar{w}$ 来表示，两层的神经网络其实就变成了一层神经网络，只不过参数变成了新的 $\\bar{w}$，所以如果不使用激活函数，那么不管多少层的神经网络，$y = w_n \\cdots w_2 w_1 x = \\bar{w} x$，就都变成了单层神经网络，所以在每一层我们都必须使用激活函数。\n",
    "\n",
    "最后我们看看激活函数对神经网络的影响\n",
    "\n",
    "![](https://ws1.sinaimg.cn/large/006tNc79ly1fmgkeqjr34g306r065diu.gif)\n",
    "\n",
    "可以看到使用了激活函数之后，神经网络可以通过改变权重实现任意形状，越是复杂的神经网络能拟合的形状越复杂，这就是著名的神经网络万有逼近定理。\n",
    "\n",
    "下面我们通过例子来感受一下神经网络的强大之处"
   ]
  },
  {
   "cell_type": "code",
   "execution_count": 1,
   "metadata": {
    "ExecuteTime": {
     "end_time": "2019-03-27T08:23:34.533445Z",
     "start_time": "2019-03-27T08:23:33.699919Z"
    }
   },
   "outputs": [],
   "source": [
    "import torch\n",
    "import numpy as np\n",
    "from torch import nn\n",
    "from torch.autograd import Variable\n",
    "import torch.nn.functional as F\n",
    "\n",
    "import matplotlib.pyplot as plt\n",
    "%matplotlib inline"
   ]
  },
  {
   "cell_type": "code",
   "execution_count": 2,
   "metadata": {
    "ExecuteTime": {
     "end_time": "2019-03-27T08:23:41.990371Z",
     "start_time": "2019-03-27T08:23:41.983381Z"
    }
   },
   "outputs": [],
   "source": [
    "def plot_decision_boundary(model, x, y):\n",
    "    # Set min and max values and give it some padding\n",
    "    x_min, x_max = x[:, 0].min() - 1, x[:, 0].max() + 1\n",
    "    y_min, y_max = x[:, 1].min() - 1, x[:, 1].max() + 1\n",
    "    h = 0.01\n",
    "    # Generate a grid of points with distance h between them\n",
    "    xx, yy = np.meshgrid(np.arange(x_min, x_max, h), np.arange(y_min, y_max, h))\n",
    "    # Predict the function value for the whole grid\n",
    "    Z = model(np.c_[xx.ravel(), yy.ravel()])\n",
    "    Z = Z.reshape(xx.shape)\n",
    "    # Plot the contour and training examples\n",
    "    plt.contourf(xx, yy, Z, cmap=plt.cm.Spectral)\n",
    "    plt.ylabel('x2')\n",
    "    plt.xlabel('x1')\n",
    "    plt.scatter(x[:, 0], x[:, 1], c=y.reshape(-1), s=40, cmap=plt.cm.Spectral)"
   ]
  },
  {
   "cell_type": "markdown",
   "metadata": {},
   "source": [
    "这次我们仍然处理一个二分类问题，但是比前面的 logistic 回归更加复杂"
   ]
  },
  {
   "cell_type": "code",
   "execution_count": 3,
   "metadata": {
    "ExecuteTime": {
     "end_time": "2019-03-27T08:23:48.225576Z",
     "start_time": "2019-03-27T08:23:48.202595Z"
    }
   },
   "outputs": [],
   "source": [
    "np.random.seed(1)\n",
    "m = 400 # 样本数量\n",
    "N = int(m/2) # 每一类的点的个数\n",
    "D = 2 # 维度\n",
    "x = np.zeros((m, D))\n",
    "y = np.zeros((m, 1), dtype='uint8') # label 向量，0 表示红色，1 表示蓝色\n",
    "a = 4\n",
    "\n",
    "for j in range(2):\n",
    "    ix = range(N*j,N*(j+1))\n",
    "    t = np.linspace(j*3.12,(j+1)*3.12,N) + np.random.randn(N)*0.2 # theta\n",
    "    r = a*np.sin(4*t) + np.random.randn(N)*0.2 # radius\n",
    "    x[ix] = np.c_[r*np.sin(t), r*np.cos(t)]\n",
    "    y[ix] = j"
   ]
  },
  {
   "cell_type": "code",
   "execution_count": 4,
   "metadata": {},
   "outputs": [
    {
     "data": {
      "text/plain": [
       "<matplotlib.collections.PathCollection at 0x1170f3908>"
      ]
     },
     "execution_count": 4,
     "metadata": {},
     "output_type": "execute_result"
    },
    {
     "data": {
      "image/png": "[encoded data removed]",
      "text/plain": [
       "<matplotlib.figure.Figure at 0x1170a0080>"
      ]
     },
     "metadata": {},
     "output_type": "display_data"
    }
   ],
   "source": [
    "plt.scatter(x[:, 0], x[:, 1], c=y.reshape(-1), s=40, cmap=plt.cm.Spectral)"
   ]
  },
  {
   "cell_type": "markdown",
   "metadata": {},
   "source": [
    "<span class=\"mark\">logistics回归无法解决</span>"
   ]
  },
  {
   "cell_type": "code",
   "execution_count": 4,
   "metadata": {
    "ExecuteTime": {
     "end_time": "2019-03-27T08:25:38.113925Z",
     "start_time": "2019-03-27T08:25:38.038982Z"
    }
   },
   "outputs": [],
   "source": [
    "x = torch.from_numpy(x).float()#转成tensor形式\n",
    "y = torch.from_numpy(y).float()"
   ]
  },
  {
   "cell_type": "code",
   "execution_count": 8,
   "metadata": {
    "ExecuteTime": {
     "end_time": "2019-03-27T08:26:23.794976Z",
     "start_time": "2019-03-27T08:26:23.787000Z"
    }
   },
   "outputs": [],
   "source": [
    "w = nn.Parameter(torch.randn(2, 1))#直接是参数形式\n",
    "b = nn.Parameter(torch.zeros(1))\n",
    "\n",
    "optimizer = torch.optim.SGD([w, b], 1e-1)#直接是利用优化器\n",
    "\n",
    "def logistic_regression(x):\n",
    "    return torch.mm(x, w) + b\n",
    "\n",
    "criterion = nn.BCEWithLogitsLoss()"
   ]
  },
  {
   "cell_type": "code",
   "execution_count": 9,
   "metadata": {
    "ExecuteTime": {
     "end_time": "2019-03-27T08:27:10.637029Z",
     "start_time": "2019-03-27T08:27:10.598059Z"
    }
   },
   "outputs": [],
   "source": [
    "for e in range(100):\n",
    "    out = logistic_regression(Variable(x))#输入的是这个variable 默认是true\n",
    "    loss = criterion(out, Variable(y))#求出loss\n",
    "    optimizer.zero_grad()#梯度清零\n",
    "    loss.backward()#梯度反穿\n",
    "    optimizer.step()#进行梯度更新\n"
   ]
  },
  {
   "cell_type": "code",
   "execution_count": 10,
   "metadata": {
    "ExecuteTime": {
     "end_time": "2019-03-27T08:27:37.446158Z",
     "start_time": "2019-03-27T08:27:37.441155Z"
    }
   },
   "outputs": [],
   "source": [
    "def plot_logistic(x):\n",
    "    x = Variable(torch.from_numpy(x).float())\n",
    "    out = F.sigmoid(logistic_regression(x))\n",
    "    out = (out > 0.5) * 1\n",
    "    return out.data.numpy()"
   ]
  },
  {
   "cell_type": "code",
   "execution_count": 11,
   "metadata": {
    "ExecuteTime": {
     "end_time": "2019-03-27T08:27:45.202088Z",
     "start_time": "2019-03-27T08:27:44.526107Z"
    }
   },
   "outputs": [
    {
     "name": "stderr",
     "output_type": "stream",
     "text": [
      "D:\\anaconda\\envs\\fastai\\lib\\site-packages\\torch\\nn\\functional.py:1332: UserWarning: nn.functional.sigmoid is deprecated. Use torch.sigmoid instead.\n",
      "  warnings.warn(\"nn.functional.sigmoid is deprecated. Use torch.sigmoid instead.\")\n"
     ]
    },
    {
     "data": {
      "text/plain": [
       "Text(0.5, 1.0, 'logistic regression')"
      ]
     },
     "execution_count": 11,
     "metadata": {},
     "output_type": "execute_result"
    },
    {
     "data": {
      "image/png": "[encoded data removed]",
      "text/plain": [
       "<Figure size 432x288 with 1 Axes>"
      ]
     },
     "metadata": {
      "needs_background": "light"
     },
     "output_type": "display_data"
    }
   ],
   "source": [
    "plot_decision_boundary(lambda x: plot_logistic(x), x.numpy(), y.numpy())\n",
    "plt.title('logistic regression')"
   ]
  },
  {
   "cell_type": "markdown",
   "metadata": {},
   "source": [
    "<span class=\"girk\">这个时候就该我们的神经网络登场了！</span>"
   ]
  },
  {
   "cell_type": "code",
   "execution_count": 12,
   "metadata": {
    "ExecuteTime": {
     "end_time": "2019-03-27T08:30:38.927495Z",
     "start_time": "2019-03-27T08:30:38.921497Z"
    }
   },
   "outputs": [],
   "source": [
    "#完全自己定义神经网络结构\n",
    "# 定义两层神经网络的参数\n",
    "w1 = nn.Parameter(torch.randn(2, 4) * 0.01) # 隐藏层神经元个数 2\n",
    "b1 = nn.Parameter(torch.zeros(4))\n",
    "\n",
    "w2 = nn.Parameter(torch.randn(4, 1) * 0.01)\n",
    "b2 = nn.Parameter(torch.zeros(1))\n",
    "\n",
    "# 定义模型\n",
    "def two_network(x):\n",
    "    x1 = torch.mm(x, w1) + b1\n",
    "    x1 = F.tanh(x1) # 使用 PyTorch 自带的 tanh 激活函数\n",
    "    x2 = torch.mm(x1, w2) + b2\n",
    "    return x2\n",
    "\n",
    "optimizer = torch.optim.SGD([w1, w2, b1, b2], 1.) #参数优化\n",
    "\n",
    "criterion = nn.BCEWithLogitsLoss()#loss函数"
   ]
  },
  {
   "cell_type": "code",
   "execution_count": 13,
   "metadata": {
    "ExecuteTime": {
     "end_time": "2019-03-27T08:31:32.594968Z",
     "start_time": "2019-03-27T08:31:26.827536Z"
    }
   },
   "outputs": [
    {
     "name": "stderr",
     "output_type": "stream",
     "text": [
      "D:\\anaconda\\envs\\fastai\\lib\\site-packages\\torch\\nn\\functional.py:1320: UserWarning: nn.functional.tanh is deprecated. Use torch.tanh instead.\n",
      "  warnings.warn(\"nn.functional.tanh is deprecated. Use torch.tanh instead.\")\n"
     ]
    }
   ],
   "source": [
    "# 我们训练 10000 次\n",
    "for e in range(10000):\n",
    "    out = two_network(Variable(x))\n",
    "    loss = criterion(out, Variable(y))\n",
    "    optimizer.zero_grad()\n",
    "    loss.backward()\n",
    "    optimizer.step()\n",
    "  "
   ]
  },
  {
   "cell_type": "code",
   "execution_count": 15,
   "metadata": {
    "ExecuteTime": {
     "end_time": "2019-03-27T08:33:08.037290Z",
     "start_time": "2019-03-27T08:33:08.031295Z"
    }
   },
   "outputs": [],
   "source": [
    "def plot_network(x):\n",
    "    x = Variable(torch.from_numpy(x).float())#输入的是这个variable形式才可以\n",
    "    x1 = torch.mm(x, w1) + b1\n",
    "    x1 = F.tanh(x1)\n",
    "    x2 = torch.mm(x1, w2) + b2\n",
    "    out = F.sigmoid(x2)#最后一层sigmoid函数\n",
    "    out = (out > 0.5) * 1\n",
    "    return out.data.numpy()"
   ]
  },
  {
   "cell_type": "code",
   "execution_count": 16,
   "metadata": {
    "ExecuteTime": {
     "end_time": "2019-03-27T08:33:14.723122Z",
     "start_time": "2019-03-27T08:33:14.023853Z"
    }
   },
   "outputs": [
    {
     "name": "stderr",
     "output_type": "stream",
     "text": [
      "D:\\anaconda\\envs\\fastai\\lib\\site-packages\\torch\\nn\\functional.py:1320: UserWarning: nn.functional.tanh is deprecated. Use torch.tanh instead.\n",
      "  warnings.warn(\"nn.functional.tanh is deprecated. Use torch.tanh instead.\")\n",
      "D:\\anaconda\\envs\\fastai\\lib\\site-packages\\torch\\nn\\functional.py:1332: UserWarning: nn.functional.sigmoid is deprecated. Use torch.sigmoid instead.\n",
      "  warnings.warn(\"nn.functional.sigmoid is deprecated. Use torch.sigmoid instead.\")\n"
     ]
    },
    {
     "data": {
      "text/plain": [
       "Text(0.5, 1.0, '2 layer network')"
      ]
     },
     "execution_count": 16,
     "metadata": {},
     "output_type": "execute_result"
    },
    {
     "data": {
      "image/png": "[encoded data removed]",
      "text/plain": [
       "<Figure size 432x288 with 1 Axes>"
      ]
     },
     "metadata": {
      "needs_background": "light"
     },
     "output_type": "display_data"
    }
   ],
   "source": [
    "plot_decision_boundary(lambda x: plot_network(x), x.numpy(), y.numpy())\n",
    "plt.title('2 layer network')"
   ]
  },
  {
   "cell_type": "markdown",
   "metadata": {},
   "source": [
    "可以看到神经网络能够非常好地分类这个复杂的数据，和前面的 logistic 回归相比，神经网络因为有了激活函数的存在，成了一个非线性分类器，所以神经网络分类的边界更加复杂。"
   ]
  },
  {
   "cell_type": "markdown",
   "metadata": {},
   "source": [
    "## Sequential 和 Module"
   ]
  },
  {
   "cell_type": "markdown",
   "metadata": {},
   "source": [
    "我们讲了数据处理，模型构建，loss 函数设计等等内容，但是目前为止我们还没有准备好构建一个完整的机器学习系统，一个完整的机器学习系统需要我们不断地读写模型。在现实应用中，一般我们会将模型在本地进行训练，然后保存模型，接着我们会将模型部署到不同的地方进行应用，所以在这节课我们会教大家如何保存 PyTorch 的模型。\n",
    "\n",
    "首先我们会讲一下 PyTorch 中的模块，Sequential 和 Module。"
   ]
  },
  {
   "cell_type": "markdown",
   "metadata": {},
   "source": [
    "\n",
    "对于前面的线性回归模型、 Logistic回归模型和神经网络，我们在构建的时候定义了需要的参数。这对于比较小的模型是可行的，但是对于大的模型，比如100 层的神经网络，这个时候再去手动定义参数就显得非常麻烦，所以 PyTorch 提供了两个模块来帮助我们构建模型，一个是Sequential，一个是 Module。\n",
    "\n",
    "Sequential 允许我们构建序列化的模块，而 Module 是一种更加灵活的模型定义方式，我们下面分别用 Sequential 和 Module 来定义上面的神经网络。"
   ]
  },
  {
   "cell_type": "code",
   "execution_count": 17,
   "metadata": {
    "ExecuteTime": {
     "end_time": "2019-03-27T08:33:38.584849Z",
     "start_time": "2019-03-27T08:33:38.567877Z"
    }
   },
   "outputs": [],
   "source": [
    "# Sequential\n",
    "seq_net = nn.Sequential(\n",
    "    nn.Linear(2, 4), # PyTorch 中的线性层，wx + b\n",
    "    nn.Tanh(),\n",
    "    nn.Linear(4, 1)\n",
    ")"
   ]
  },
  {
   "cell_type": "code",
   "execution_count": 18,
   "metadata": {
    "ExecuteTime": {
     "end_time": "2019-03-27T08:33:41.309045Z",
     "start_time": "2019-03-27T08:33:41.305033Z"
    }
   },
   "outputs": [
    {
     "data": {
      "text/plain": [
       "Linear(in_features=2, out_features=4, bias=True)"
      ]
     },
     "execution_count": 18,
     "metadata": {},
     "output_type": "execute_result"
    }
   ],
   "source": [
    "# 序列模块可以通过索引访问每一层\n",
    "\n",
    "seq_net[0] # 第一层"
   ]
  },
  {
   "cell_type": "markdown",
   "metadata": {},
   "source": [
    "<span class=\"mark\">注意一个神经网络，输入x 以及权重 bias等参数是都要是 variable形式</span>"
   ]
  },
  {
   "cell_type": "code",
   "execution_count": 20,
   "metadata": {
    "ExecuteTime": {
     "end_time": "2019-03-27T08:38:18.730393Z",
     "start_time": "2019-03-27T08:38:18.726395Z"
    }
   },
   "outputs": [
    {
     "name": "stdout",
     "output_type": "stream",
     "text": [
      "Parameter containing:\n",
      "tensor([[-0.3181,  0.0364],\n",
      "        [ 0.6150,  0.2228],\n",
      "        [-0.5000,  0.5133],\n",
      "        [-0.1262, -0.4153]], requires_grad=True)\n"
     ]
    }
   ],
   "source": [
    "# 打印出第一层的权重\n",
    "\n",
    "w0 = seq_net[0].weight\n",
    "print(w0) \n"
   ]
  },
  {
   "cell_type": "markdown",
   "metadata": {},
   "source": [
    "<span class=\"mark\">定义优化器 定义优化器必须是要输入模型参数</span>"
   ]
  },
  {
   "cell_type": "code",
   "execution_count": 22,
   "metadata": {
    "ExecuteTime": {
     "end_time": "2019-03-27T08:39:25.950423Z",
     "start_time": "2019-03-27T08:39:25.944444Z"
    }
   },
   "outputs": [],
   "source": [
    "# 通过 parameters 可以取得模型的参数\n",
    "param = seq_net.parameters()\n",
    "# 定义优化器\n",
    "optim = torch.optim.SGD(param, 1.)"
   ]
  },
  {
   "cell_type": "code",
   "execution_count": 23,
   "metadata": {
    "ExecuteTime": {
     "end_time": "2019-03-27T08:39:56.728165Z",
     "start_time": "2019-03-27T08:39:50.884875Z"
    }
   },
   "outputs": [],
   "source": [
    "# 我们训练 10000 次\n",
    "for e in range(10000):\n",
    "    out = seq_net(Variable(x))\n",
    "    loss = criterion(out, Variable(y))\n",
    "    optim.zero_grad()\n",
    "    loss.backward()\n",
    "    optim.step()\n"
   ]
  },
  {
   "cell_type": "markdown",
   "metadata": {},
   "source": [
    "可以看到，训练 10000 次 loss 比之前的更低，这是因为 PyTorch 自带的模块比我们写的更加稳定，同时也有一些初始化的问题在里面，关于参数初始化，我们会在后面的课程中讲到"
   ]
  },
  {
   "cell_type": "code",
   "execution_count": 26,
   "metadata": {
    "ExecuteTime": {
     "end_time": "2019-03-27T08:41:26.744364Z",
     "start_time": "2019-03-27T08:41:26.739367Z"
    }
   },
   "outputs": [],
   "source": [
    "def plot_seq(x):\n",
    "    out = F.sigmoid(seq_net(Variable(torch.from_numpy(x).float()))).data.numpy()\n",
    "    out = (out > 0.5) * 1\n",
    "    return out\n",
    "#输出要用表达式写出来"
   ]
  },
  {
   "cell_type": "code",
   "execution_count": 27,
   "metadata": {
    "ExecuteTime": {
     "end_time": "2019-03-27T08:41:29.506581Z",
     "start_time": "2019-03-27T08:41:28.996875Z"
    }
   },
   "outputs": [
    {
     "name": "stderr",
     "output_type": "stream",
     "text": [
      "D:\\anaconda\\envs\\fastai\\lib\\site-packages\\torch\\nn\\functional.py:1332: UserWarning: nn.functional.sigmoid is deprecated. Use torch.sigmoid instead.\n",
      "  warnings.warn(\"nn.functional.sigmoid is deprecated. Use torch.sigmoid instead.\")\n"
     ]
    },
    {
     "data": {
      "text/plain": [
       "Text(0.5, 1.0, 'sequential')"
      ]
     },
     "execution_count": 27,
     "metadata": {},
     "output_type": "execute_result"
    },
    {
     "data": {
      "image/png": "[encoded data removed]",
      "text/plain": [
       "<Figure size 432x288 with 1 Axes>"
      ]
     },
     "metadata": {
      "needs_background": "light"
     },
     "output_type": "display_data"
    }
   ],
   "source": [
    "plot_decision_boundary(lambda x: plot_seq(x), x.numpy(), y.numpy())\n",
    "plt.title('sequential')"
   ]
  },
  {
   "cell_type": "markdown",
   "metadata": {},
   "source": [
    "最后我们讲一讲如何保存模型，保存模型在 PyTorch 中有两种方式，一种是将模型结构和参数都保存在一起，一种是只将参数保存下来，下面我们一一介绍。"
   ]
  },
  {
   "cell_type": "code",
   "execution_count": 21,
   "metadata": {
    "collapsed": true
   },
   "outputs": [],
   "source": [
    "# 将参数和模型保存在一起\n",
    "torch.save(seq_net, 'save_seq_net.pth')"
   ]
  },
  {
   "cell_type": "markdown",
   "metadata": {},
   "source": [
    "上面就是保存模型的方式，`torch.save`里面有两个参数，第一个是要保存的模型，第二个参数是保存的路径，读取模型的方式也非常简单"
   ]
  },
  {
   "cell_type": "code",
   "execution_count": 22,
   "metadata": {
    "collapsed": true
   },
   "outputs": [],
   "source": [
    "# 读取保存的模型\n",
    "seq_net1 = torch.load('save_seq_net.pth')"
   ]
  },
  {
   "cell_type": "code",
   "execution_count": 23,
   "metadata": {},
   "outputs": [
    {
     "data": {
      "text/plain": [
       "Sequential(\n",
       "  (0): Linear(in_features=2, out_features=4)\n",
       "  (1): Tanh()\n",
       "  (2): Linear(in_features=4, out_features=1)\n",
       ")"
      ]
     },
     "execution_count": 23,
     "metadata": {},
     "output_type": "execute_result"
    }
   ],
   "source": [
    "seq_net1"
   ]
  },
  {
   "cell_type": "code",
   "execution_count": 28,
   "metadata": {},
   "outputs": [
    {
     "name": "stdout",
     "output_type": "stream",
     "text": [
      "Parameter containing:\n",
      " -0.5532  -1.9916\n",
      "  0.0446   7.9446\n",
      " 10.3188 -12.9290\n",
      " 10.0688  11.7754\n",
      "[torch.FloatTensor of size 4x2]\n",
      "\n"
     ]
    }
   ],
   "source": [
    "print(seq_net1[0].weight)"
   ]
  },
  {
   "cell_type": "markdown",
   "metadata": {},
   "source": [
    "我们可以看到我们重新读入了模型，并且将其命名为 seq_net1，并且打印了第一层的参数\n",
    "\n",
    "下面我们看看第二种保存模型的方式，只保存参数而不保存模型结构"
   ]
  },
  {
   "cell_type": "code",
   "execution_count": 24,
   "metadata": {
    "collapsed": true
   },
   "outputs": [],
   "source": [
    "# 保存模型参数\n",
    "torch.save(seq_net.state_dict(), 'save_seq_net_params.pth')"
   ]
  },
  {
   "cell_type": "markdown",
   "metadata": {},
   "source": [
    "通过上面的方式，我们保存了模型的参数，如果要重新读入模型的参数，首先我们需要重新定义一次模型，接着重新读入参数"
   ]
  },
  {
   "cell_type": "code",
   "execution_count": 26,
   "metadata": {},
   "outputs": [],
   "source": [
    "seq_net2 = nn.Sequential(\n",
    "    nn.Linear(2, 4),\n",
    "    nn.Tanh(),\n",
    "    nn.Linear(4, 1)\n",
    ")\n",
    "\n",
    "seq_net2.load_state_dict(torch.load('save_seq_net_params.pth'))"
   ]
  },
  {
   "cell_type": "code",
   "execution_count": 27,
   "metadata": {},
   "outputs": [
    {
     "data": {
      "text/plain": [
       "Sequential(\n",
       "  (0): Linear(in_features=2, out_features=4)\n",
       "  (1): Tanh()\n",
       "  (2): Linear(in_features=4, out_features=1)\n",
       ")"
      ]
     },
     "execution_count": 27,
     "metadata": {},
     "output_type": "execute_result"
    }
   ],
   "source": [
    "seq_net2"
   ]
  },
  {
   "cell_type": "code",
   "execution_count": 29,
   "metadata": {},
   "outputs": [
    {
     "name": "stdout",
     "output_type": "stream",
     "text": [
      "Parameter containing:\n",
      " -0.5532  -1.9916\n",
      "  0.0446   7.9446\n",
      " 10.3188 -12.9290\n",
      " 10.0688  11.7754\n",
      "[torch.FloatTensor of size 4x2]\n",
      "\n"
     ]
    }
   ],
   "source": [
    "print(seq_net2[0].weight)"
   ]
  },
  {
   "cell_type": "markdown",
   "metadata": {},
   "source": [
    "通过这种方式我们也重新读入了相同的模型，打印第一层的参数对比，发现和前面的办法是一样"
   ]
  },
  {
   "cell_type": "markdown",
   "metadata": {},
   "source": [
    "有这两种保存和读取模型的方法，我们推荐使用**第二种**，因为第二种可移植性更强"
   ]
  },
  {
   "cell_type": "markdown",
   "metadata": {},
   "source": [
    "\n"
   ]
  },
  {
   "cell_type": "markdown",
   "metadata": {},
   "source": [
    "<span class=\"mark\">下面我们再用 Module 定义这个模型，下面是使用 Module 的模板</span>\n",
    "\n",
    "```\n",
    "class 网络名字(nn.Module):\n",
    "    def __init__(self, 一些定义的参数):\n",
    "        super(网络名字, self).__init__()\n",
    "        self.layer1 = nn.Linear(num_input, num_hidden)\n",
    "        self.layer2 = nn.Sequential(...)\n",
    "        ...\n",
    "        \n",
    "        定义需要用的网络层\n",
    "        \n",
    "    def forward(self, x): # 定义前向传播\n",
    "        x1 = self.layer1(x)\n",
    "        x2 = self.layer2(x)\n",
    "        x = x1 + x2\n",
    "        ...\n",
    "        return x\n",
    "```\n",
    "\n",
    "注意的是，Module 里面也可以使用 Sequential，同时 Module 非常灵活，具体体现在 forward 中，如何复杂的操作都能直观的在 forward 里面执行\n",
    "\n",
    "下面我们照着模板实现一下上面的神经网络"
   ]
  },
  {
   "cell_type": "code",
   "execution_count": 28,
   "metadata": {
    "ExecuteTime": {
     "end_time": "2019-03-27T08:43:54.316196Z",
     "start_time": "2019-03-27T08:43:54.311184Z"
    }
   },
   "outputs": [],
   "source": [
    "class module_net(nn.Module):\n",
    "    def __init__(self, num_input, num_hidden, num_output):\n",
    "        super(module_net, self).__init__()\n",
    "        self.layer1 = nn.Linear(num_input, num_hidden)\n",
    "        \n",
    "        self.layer2 = nn.Tanh()\n",
    "        \n",
    "        self.layer3 = nn.Linear(num_hidden, num_output)\n",
    "        \n",
    "    def forward(self, x):\n",
    "        x = self.layer1(x)\n",
    "        x = self.layer2(x)\n",
    "        x = self.layer3(x)\n",
    "        return x"
   ]
  },
  {
   "cell_type": "code",
   "execution_count": 29,
   "metadata": {
    "ExecuteTime": {
     "end_time": "2019-03-27T08:43:58.535111Z",
     "start_time": "2019-03-27T08:43:58.530120Z"
    }
   },
   "outputs": [],
   "source": [
    "mo_net = module_net(2, 4, 1)"
   ]
  },
  {
   "cell_type": "code",
   "execution_count": 30,
   "metadata": {
    "ExecuteTime": {
     "end_time": "2019-03-27T08:44:00.218221Z",
     "start_time": "2019-03-27T08:44:00.214243Z"
    }
   },
   "outputs": [
    {
     "name": "stdout",
     "output_type": "stream",
     "text": [
      "Linear(in_features=2, out_features=4, bias=True)\n"
     ]
    }
   ],
   "source": [
    "# 访问模型中的某层可以直接通过名字\n",
    "\n",
    "# 第一层\n",
    "l1 = mo_net.layer1\n",
    "print(l1)"
   ]
  },
  {
   "cell_type": "code",
   "execution_count": 31,
   "metadata": {
    "ExecuteTime": {
     "end_time": "2019-03-27T08:44:02.027871Z",
     "start_time": "2019-03-27T08:44:02.022855Z"
    }
   },
   "outputs": [
    {
     "name": "stdout",
     "output_type": "stream",
     "text": [
      "Parameter containing:\n",
      "tensor([[ 0.5015, -0.1861],\n",
      "        [-0.6995,  0.1950],\n",
      "        [ 0.1654, -0.6610],\n",
      "        [-0.3961,  0.1472]], requires_grad=True)\n"
     ]
    }
   ],
   "source": [
    "# 打印出第一层的权重\n",
    "print(l1.weight)"
   ]
  },
  {
   "cell_type": "code",
   "execution_count": 32,
   "metadata": {
    "ExecuteTime": {
     "end_time": "2019-03-27T08:44:05.427165Z",
     "start_time": "2019-03-27T08:44:05.423185Z"
    }
   },
   "outputs": [],
   "source": [
    "# 定义优化器\n",
    "optim = torch.optim.SGD(mo_net.parameters(), 1.)#注意参数是这个参数，和学习率"
   ]
  },
  {
   "cell_type": "code",
   "execution_count": 33,
   "metadata": {
    "ExecuteTime": {
     "end_time": "2019-03-27T08:44:12.936029Z",
     "start_time": "2019-03-27T08:44:07.113162Z"
    }
   },
   "outputs": [],
   "source": [
    "# 我们训练 10000 次\n",
    "for e in range(10000):\n",
    "    out = mo_net(Variable(x))\n",
    "    loss = criterion(out, Variable(y))\n",
    "    optim.zero_grad()\n",
    "    loss.backward()\n",
    "    optim.step()\n",
    " "
   ]
  },
  {
   "cell_type": "code",
   "execution_count": 34,
   "metadata": {
    "ExecuteTime": {
     "end_time": "2019-03-27T08:44:29.769106Z",
     "start_time": "2019-03-27T08:44:29.722120Z"
    }
   },
   "outputs": [],
   "source": [
    "# 保存模型\n",
    "torch.save(mo_net.state_dict(), 'module_net.pth')"
   ]
  },
  {
   "cell_type": "markdown",
   "metadata": {},
   "source": [
    "可以看到我们得到了相同的结果，而且使用 Sequential 和 Module 来定义模型更加方便\n",
    "\n",
    "在这一节中我们还是使用梯度下降法来优化参数，在神经网络中，这种优化方法有一个特别的名字，反向传播算法，下一次课我们会讲一讲什么是反向传播算法"
   ]
  },
  {
   "cell_type": "markdown",
   "metadata": {},
   "source": [
    "**小练习：改变网络的隐藏层神经元数目，或者试试定义一个 5 层甚至更深的模型，增加训练次数，改变学习率，看看结果会怎么样**"
   ]
  },
  {
   "cell_type": "markdown",
   "metadata": {},
   "source": [
    "下面举个例子"
   ]
  },
  {
   "cell_type": "code",
   "execution_count": 35,
   "metadata": {
    "ExecuteTime": {
     "end_time": "2019-03-27T08:44:33.863692Z",
     "start_time": "2019-03-27T08:44:33.857677Z"
    }
   },
   "outputs": [],
   "source": [
    "net = nn.Sequential(\n",
    "    nn.Linear(2, 10),\n",
    "    nn.Tanh(),\n",
    "    nn.Linear(10, 10),\n",
    "    nn.Tanh(),\n",
    "    nn.Linear(10, 10),\n",
    "    nn.Tanh(),\n",
    "    nn.Linear(10, 1)\n",
    ")\n",
    "\n",
    "optim = torch.optim.SGD(net.parameters(), 0.1)"
   ]
  },
  {
   "cell_type": "code",
   "execution_count": 37,
   "metadata": {
    "ExecuteTime": {
     "end_time": "2019-03-27T08:45:11.221722Z",
     "start_time": "2019-03-27T08:44:43.758494Z"
    }
   },
   "outputs": [],
   "source": [
    "# 我们训练 20000 次\n",
    "for e in range(20000):\n",
    "    out = net(Variable(x))\n",
    "    loss = criterion(out, Variable(y))\n",
    "    optim.zero_grad()\n",
    "    loss.backward()\n",
    "    optim.step()\n"
   ]
  },
  {
   "cell_type": "code",
   "execution_count": 38,
   "metadata": {
    "ExecuteTime": {
     "end_time": "2019-03-27T08:45:20.651985Z",
     "start_time": "2019-03-27T08:45:19.830474Z"
    }
   },
   "outputs": [
    {
     "data": {
      "text/plain": [
       "Text(0.5, 1.0, 'sequential')"
      ]
     },
     "execution_count": 38,
     "metadata": {},
     "output_type": "execute_result"
    },
    {
     "data": {
      "image/png": "[encoded data removed]",
      "text/plain": [
       "<Figure size 432x288 with 1 Axes>"
      ]
     },
     "metadata": {
      "needs_background": "light"
     },
     "output_type": "display_data"
    }
   ],
   "source": [
    "def plot_net(x):\n",
    "    out = F.sigmoid(net(Variable(torch.from_numpy(x).float()))).data.numpy()\n",
    "    out = (out > 0.5) * 1\n",
    "    return out\n",
    "\n",
    "plot_decision_boundary(lambda x: plot_net(x), x.numpy(), y.numpy())\n",
    "plt.title('sequential')"
   ]
  },
  {
   "cell_type": "code",
   "execution_count": null,
   "metadata": {},
   "outputs": [],
   "source": []
  }
 ],
 "metadata": {
  "hide_input": false,
  "kernelspec": {
   "display_name": "Python 3",
   "language": "python",
   "name": "python3"
  },
  "language_info": {
   "codemirror_mode": {
    "name": "ipython",
    "version": 3
   },
   "file_extension": ".py",
   "mimetype": "text/x-python",
   "name": "python",
   "nbconvert_exporter": "python",
   "pygments_lexer": "ipython3",
   "version": "3.6.8"
  },
  "toc": {
   "base_numbering": 1,
   "nav_menu": {},
   "number_sections": true,
   "sideBar": true,
   "skip_h1_title": false,
   "title_cell": "Table of Contents",
   "title_sidebar": "Contents",
   "toc_cell": false,
   "toc_position": {},
   "toc_section_display": true,
   "toc_window_display": false
  },
  "varInspector": {
   "cols": {
    "lenName": 16,
    "lenType": 16,
    "lenVar": 40
   },
   "kernels_config": {
    "python": {
     "delete_cmd_postfix": "",
     "delete_cmd_prefix": "del ",
     "library": "var_list.py",
     "varRefreshCmd": "print(var_dic_list())"
    },
    "r": {
     "delete_cmd_postfix": ") ",
     "delete_cmd_prefix": "rm(",
     "library": "var_list.r",
     "varRefreshCmd": "cat(var_dic_list()) "
    }
   },
   "types_to_exclude": [
    "module",
    "function",
    "builtin_function_or_method",
    "instance",
    "_Feature"
   ],
   "window_display": false
  }
 },
 "nbformat": 4,
 "nbformat_minor": 2
}
